{
 "cells": [
  {
   "cell_type": "markdown",
   "id": "f3e63534-e052-4917-9a24-2f09501a4fd1",
   "metadata": {},
   "source": [
    "# Test model training using pytorch, cuda, and resnet50"
   ]
  },
  {
   "cell_type": "markdown",
   "id": "4df57ca4-f649-4b57-b995-a72bb0bbb6c0",
   "metadata": {},
   "source": [
    "### Extract files and masks from directory"
   ]
  },
  {
   "cell_type": "markdown",
   "id": "dc58f970-4b26-4046-b1a1-cbc37ec186d1",
   "metadata": {},
   "source": [
    "Make backup of data before performing the following task"
   ]
  },
  {
   "cell_type": "code",
   "execution_count": null,
   "id": "74878c5f-c889-4691-89c3-219e4bf164c4",
   "metadata": {},
   "outputs": [],
   "source": [
    "import os\n",
    "import json\n",
    "from PIL import Image\n",
    "import torch\n",
    "from torchvision import transforms\n",
    "import numpy as np\n",
    "\n",
    "# Directory paths\n",
    "images_dir = 'path/to/images'\n",
    "annotations_dir = 'path/to/annotations'\n",
    "\n",
    "# List all image files\n",
    "image_files = sorted([f for f in os.listdir(images_dir) if f.endswith('.jpg') or f.endswith('.png')])\n",
    "annotation_files = sorted([f for f in os.listdir(annotations_dir) if f.endswith('.json')])\n",
    "\n",
    "# Function to parse a single annotation\n",
    "def parse_annotation(json_path):\n",
    "    with open(json_path) as f:\n",
    "        data = json.load(f)\n",
    "    \n",
    "    # Example for object detection\n",
    "    boxes = []\n",
    "    labels = []\n",
    "    for shape in data['shapes']:\n",
    "        label = shape['label']\n",
    "        points = shape['points']  # [[x1, y1], [x2, y2]]\n",
    "        x_coords = [p[0] for p in points]\n",
    "        y_coords = [p[1] for p in points]\n",
    "        xmin, xmax = min(x_coords), max(x_coords)\n",
    "        ymin, ymax = min(y_coords), max(y_coords)\n",
    "        boxes.append([xmin, ymin, xmax, ymax])\n",
    "        labels.append(label)\n",
    "    \n",
    "    return boxes, labels\n"
   ]
  },
  {
   "cell_type": "markdown",
   "id": "92018873-33ec-4884-97c1-692637b5c02f",
   "metadata": {},
   "source": [
    "### Create dataset"
   ]
  },
  {
   "cell_type": "code",
   "execution_count": null,
   "id": "3ae26a2a-504a-41fc-988b-73e8ee663d96",
   "metadata": {},
   "outputs": [],
   "source": [
    "from torch.utils.data import Dataset\n",
    "\n",
    "class CustomDataset(Dataset):\n",
    "    def __init__(self, images_dir, annotations_dir, transforms=None):\n",
    "        self.images_dir = images_dir\n",
    "        self.annotations_dir = annotations_dir\n",
    "        self.image_files = sorted([f for f in os.listdir(images_dir) if f.endswith('.jpg') or f.endswith('.png')])\n",
    "        self.annotation_files = sorted([f for f in os.listdir(annotations_dir) if f.endswith('.json')])\n",
    "        self.transforms = transforms\n",
    "        self.label_map = self.create_label_map()\n",
    "\n",
    "    def create_label_map(self):\n",
    "        # Create a mapping from label names to integers\n",
    "        labels = set()\n",
    "        for ann_file in self.annotation_files:\n",
    "            with open(os.path.join(self.annotations_dir, ann_file)) as f:\n",
    "                data = json.load(f)\n",
    "                for shape in data['shapes']:\n",
    "                    labels.add(shape['label'])\n",
    "        label_map = {label: idx+1 for idx, label in enumerate(sorted(labels))}  # Background is 0\n",
    "        return label_map\n",
    "\n",
    "    def __len__(self):\n",
    "        return len(self.image_files)\n",
    "\n",
    "    def __getitem__(self, idx):\n",
    "        # Load image\n",
    "        img_path = os.path.join(self.images_dir, self.image_files[idx])\n",
    "        img = Image.open(img_path).convert(\"RGB\")\n",
    "        \n",
    "        # Load annotations\n",
    "        ann_path = os.path.join(self.annotations_dir, self.annotation_files[idx])\n",
    "        boxes, labels = parse_annotation(ann_path)\n",
    "\n",
    "        boxes = torch.as_tensor(boxes, dtype=torch.float32)\n",
    "        labels = torch.as_tensor([self.label_map[label] for label in labels], dtype=torch.int64)\n",
    "        \n",
    "        target = {}\n",
    "        target['boxes'] = boxes\n",
    "        target['labels'] = labels\n",
    "        target['image_id'] = torch.tensor([idx])\n",
    "        \n",
    "        if self.transforms:\n",
    "            img = self.transforms(img)\n",
    "\n",
    "        return img, target\n"
   ]
  },
  {
   "cell_type": "markdown",
   "id": "8c3aa613-a767-4de3-af19-198870af2ca4",
   "metadata": {},
   "source": [
    "### Prep dataloader"
   ]
  },
  {
   "cell_type": "code",
   "execution_count": null,
   "id": "49293b13-f6ab-4f9f-89a1-88f3c4ddefa4",
   "metadata": {},
   "outputs": [],
   "source": [
    "from torchvision import transforms\n",
    "from torch.utils.data import DataLoader\n",
    "\n",
    "# Define any transformations (you can add data augmentation here)\n",
    "transform = transforms.Compose([\n",
    "    transforms.ToTensor(),\n",
    "])\n",
    "\n",
    "# Create dataset and dataloader\n",
    "dataset = CustomDataset(images_dir, annotations_dir, transforms=transform)\n",
    "data_loader = DataLoader(dataset, batch_size=4, shuffle=True, collate_fn=lambda x: tuple(zip(*x)))\n"
   ]
  },
  {
   "cell_type": "markdown",
   "id": "0674825e-c546-45d7-a51b-1c5858252a7d",
   "metadata": {},
   "source": [
    "### Modify model"
   ]
  },
  {
   "cell_type": "code",
   "execution_count": null,
   "id": "29cf0dd3-19c8-4bc4-b014-392d477ef71e",
   "metadata": {},
   "outputs": [],
   "source": [
    "import torchvision\n",
    "from torchvision.models.detection.faster_rcnn import FastRCNNPredictor\n",
    "\n",
    "# Load a pre-trained model for classification and return\n",
    "# only the features\n",
    "model = torchvision.models.detection.fasterrcnn_resnet50_fpn(pretrained=True)\n",
    "\n",
    "# Replace the classifier with a new one\n",
    "num_classes = len(dataset.label_map) + 1  # +1 for background\n",
    "in_features = model.roi_heads.box_predictor.cls_score.in_features\n",
    "model.roi_heads.box_predictor = FastRCNNPredictor(in_features, num_classes)\n"
   ]
  },
  {
   "cell_type": "markdown",
   "id": "b7796d83-ac23-43a2-8abf-84de853678f8",
   "metadata": {},
   "source": [
    "### Loss function and optimizer"
   ]
  },
  {
   "cell_type": "code",
   "execution_count": null,
   "id": "89eb7a16-53c1-4cf9-b2de-ff39cefcbaa6",
   "metadata": {},
   "outputs": [],
   "source": [
    "import torch.optim as optim\n",
    "\n",
    "device = torch.device('cuda') if torch.cuda.is_available() else torch.device('cpu')\n",
    "model.to(device)\n",
    "\n",
    "params = [p for p in model.parameters() if p.requires_grad]\n",
    "optimizer = optim.SGD(params, lr=0.005, momentum=0.9, weight_decay=0.0005)\n"
   ]
  },
  {
   "cell_type": "markdown",
   "id": "0c2d96dd-c04e-42ba-91f3-1a6a20ea0cbf",
   "metadata": {},
   "source": [
    "### Train the model"
   ]
  },
  {
   "cell_type": "code",
   "execution_count": null,
   "id": "8db28e3c-f232-4621-911b-f26cee29be2a",
   "metadata": {},
   "outputs": [],
   "source": [
    "num_epochs = 10\n",
    "\n",
    "for epoch in range(num_epochs):\n",
    "    model.train()\n",
    "    i = 0\n",
    "    for images, targets in data_loader:\n",
    "        images = list(img.to(device) for img in images)\n",
    "        targets = [{k: v.to(device) for k, v in t.items()} for t in targets]\n",
    "\n",
    "        # Forward pass\n",
    "        loss_dict = model(images, targets)\n",
    "        losses = sum(loss for loss in loss_dict.values())\n",
    "\n",
    "        # Backward pass and optimization\n",
    "        optimizer.zero_grad()\n",
    "        losses.backward()\n",
    "        optimizer.step()\n",
    "        \n",
    "        if i % 10 == 0:\n",
    "            print(f\"Epoch [{epoch}/{num_epochs}], Step [{i}/{len(data_loader)}], Loss: {losses.item():.4f}\")\n",
    "        i += 1\n",
    "\n",
    "    print(f\"Epoch {epoch} finished.\")\n"
   ]
  },
  {
   "cell_type": "markdown",
   "id": "890ebe46-bcdd-4a9c-9c9a-7cacb9a229e1",
   "metadata": {},
   "source": [
    "### Save the model"
   ]
  },
  {
   "cell_type": "code",
   "execution_count": null,
   "id": "8b78efae-050e-43fe-8501-28d7d83bbb0a",
   "metadata": {},
   "outputs": [],
   "source": [
    "torch.save(model.state_dict(), 'fasterrcnn_resnet50.pth')\n"
   ]
  },
  {
   "cell_type": "markdown",
   "id": "323326e5-d595-436f-8ff2-ebc987c0beb4",
   "metadata": {},
   "source": [
    "### Sanity test"
   ]
  },
  {
   "cell_type": "code",
   "execution_count": null,
   "id": "7977d7fe-8a60-43da-a7ff-0fb2ecb5face",
   "metadata": {},
   "outputs": [],
   "source": [
    "model.eval()\n",
    "# Load an image\n",
    "img = Image.open('path/to/test/image.jpg').convert(\"RGB\")\n",
    "img = transform(img).to(device)\n",
    "with torch.no_grad():\n",
    "    prediction = model([img])\n",
    "\n",
    "print(prediction)\n"
   ]
  }
 ],
 "metadata": {
  "kernelspec": {
   "display_name": "Python 3 (ipykernel)",
   "language": "python",
   "name": "python3"
  },
  "language_info": {
   "codemirror_mode": {
    "name": "ipython",
    "version": 3
   },
   "file_extension": ".py",
   "mimetype": "text/x-python",
   "name": "python",
   "nbconvert_exporter": "python",
   "pygments_lexer": "ipython3",
   "version": "3.11.10"
  }
 },
 "nbformat": 4,
 "nbformat_minor": 5
}
